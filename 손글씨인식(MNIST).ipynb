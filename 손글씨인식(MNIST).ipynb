{
  "nbformat": 4,
  "nbformat_minor": 0,
  "metadata": {
    "colab": {
      "name": "손글씨인식(MNIST).ipynb",
      "provenance": [],
      "collapsed_sections": [],
      "authorship_tag": "ABX9TyPF7dUVGuBKKEn103cvZ+oW",
      "include_colab_link": true
    },
    "kernelspec": {
      "name": "python3",
      "display_name": "Python 3"
    },
    "language_info": {
      "name": "python"
    }
  },
  "cells": [
    {
      "cell_type": "markdown",
      "metadata": {
        "id": "view-in-github",
        "colab_type": "text"
      },
      "source": [
        "<a href=\"https://colab.research.google.com/github/SoonchanGwon/ForMANGA/blob/master/%EC%86%90%EA%B8%80%EC%94%A8%EC%9D%B8%EC%8B%9D(MNIST).ipynb\" target=\"_parent\"><img src=\"https://colab.research.google.com/assets/colab-badge.svg\" alt=\"Open In Colab\"/></a>"
      ]
    },
    {
      "cell_type": "code",
      "metadata": {
        "id": "syCMuPxqFSMK"
      },
      "source": [
        "from keras.datasets import mnist"
      ],
      "execution_count": 1,
      "outputs": []
    },
    {
      "cell_type": "code",
      "metadata": {
        "colab": {
          "base_uri": "https://localhost:8080/"
        },
        "id": "lyz4gUw2FYWy",
        "outputId": "2e6a4eec-7f42-4ebf-94bf-6edd846a932c"
      },
      "source": [
        "(X_train, Y_class_train), (X_test, Y_class_test) = mnist.load_data()\n",
        "print(\"학습셋 이미지 수 : %d 개\" % (X_train.shape[0]))\n",
        "print(\"테스트셋 이미지 수 : %d 개\" % (X_test.shape[0]))"
      ],
      "execution_count": 2,
      "outputs": [
        {
          "output_type": "stream",
          "text": [
            "학습셋 이미지 수 : 60000 개\n",
            "테스트셋 이미지 수 : 10000 개\n"
          ],
          "name": "stdout"
        }
      ]
    },
    {
      "cell_type": "code",
      "metadata": {
        "colab": {
          "base_uri": "https://localhost:8080/",
          "height": 769
        },
        "id": "LwrS1pi2Fb5F",
        "outputId": "f18d5c61-bfec-4a5b-ef4e-2032ec386afb"
      },
      "source": [
        "# 이미지 형태 출력을 위한 pyplot 모듈 import\n",
        "import matplotlib.pyplot as plt\n",
        "import sys\n",
        "# 위 60000개 데이터 배열에서 0번째 원소를 흑백으로 출력\n",
        "plt.imshow(X_train[0], cmap='Greys')\n",
        "plt.show()\n",
        "\n",
        "################################\n",
        "\n",
        "# 0번째 원소의 모든 데이터를 출력\n",
        "for x in X_train[0]:\n",
        "    for i in x:\n",
        "      sys.stdout.write('%3d' % i)\n",
        "    sys.stdout.write('\\n')"
      ],
      "execution_count": 3,
      "outputs": [
        {
          "output_type": "display_data",
          "data": {
            "image/png": "[encoded data removed]",
            "text/plain": [
              "<Figure size 432x288 with 1 Axes>"
            ]
          },
          "metadata": {
            "tags": [],
            "needs_background": "light"
          }
        },
        {
          "output_type": "stream",
          "text": [
            "  0  0  0  0  0  0  0  0  0  0  0  0  0  0  0  0  0  0  0  0  0  0  0  0  0  0  0  0\n",
            "  0  0  0  0  0  0  0  0  0  0  0  0  0  0  0  0  0  0  0  0  0  0  0  0  0  0  0  0\n",
            "  0  0  0  0  0  0  0  0  0  0  0  0  0  0  0  0  0  0  0  0  0  0  0  0  0  0  0  0\n",
            "  0  0  0  0  0  0  0  0  0  0  0  0  0  0  0  0  0  0  0  0  0  0  0  0  0  0  0  0\n",
            "  0  0  0  0  0  0  0  0  0  0  0  0  0  0  0  0  0  0  0  0  0  0  0  0  0  0  0  0\n",
            "  0  0  0  0  0  0  0  0  0  0  0  0  3 18 18 18126136175 26166255247127  0  0  0  0\n",
            "  0  0  0  0  0  0  0  0 30 36 94154170253253253253253225172253242195 64  0  0  0  0\n",
            "  0  0  0  0  0  0  0 49238253253253253253253253253251 93 82 82 56 39  0  0  0  0  0\n",
            "  0  0  0  0  0  0  0 18219253253253253253198182247241  0  0  0  0  0  0  0  0  0  0\n",
            "  0  0  0  0  0  0  0  0 80156107253253205 11  0 43154  0  0  0  0  0  0  0  0  0  0\n",
            "  0  0  0  0  0  0  0  0  0 14  1154253 90  0  0  0  0  0  0  0  0  0  0  0  0  0  0\n",
            "  0  0  0  0  0  0  0  0  0  0  0139253190  2  0  0  0  0  0  0  0  0  0  0  0  0  0\n",
            "  0  0  0  0  0  0  0  0  0  0  0 11190253 70  0  0  0  0  0  0  0  0  0  0  0  0  0\n",
            "  0  0  0  0  0  0  0  0  0  0  0  0 35241225160108  1  0  0  0  0  0  0  0  0  0  0\n",
            "  0  0  0  0  0  0  0  0  0  0  0  0  0 81240253253119 25  0  0  0  0  0  0  0  0  0\n",
            "  0  0  0  0  0  0  0  0  0  0  0  0  0  0 45186253253150 27  0  0  0  0  0  0  0  0\n",
            "  0  0  0  0  0  0  0  0  0  0  0  0  0  0  0 16 93252253187  0  0  0  0  0  0  0  0\n",
            "  0  0  0  0  0  0  0  0  0  0  0  0  0  0  0  0  0249253249 64  0  0  0  0  0  0  0\n",
            "  0  0  0  0  0  0  0  0  0  0  0  0  0  0 46130183253253207  2  0  0  0  0  0  0  0\n",
            "  0  0  0  0  0  0  0  0  0  0  0  0 39148229253253253250182  0  0  0  0  0  0  0  0\n",
            "  0  0  0  0  0  0  0  0  0  0 24114221253253253253201 78  0  0  0  0  0  0  0  0  0\n",
            "  0  0  0  0  0  0  0  0 23 66213253253253253198 81  2  0  0  0  0  0  0  0  0  0  0\n",
            "  0  0  0  0  0  0 18171219253253253253195 80  9  0  0  0  0  0  0  0  0  0  0  0  0\n",
            "  0  0  0  0 55172226253253253253244133 11  0  0  0  0  0  0  0  0  0  0  0  0  0  0\n",
            "  0  0  0  0136253253253212135132 16  0  0  0  0  0  0  0  0  0  0  0  0  0  0  0  0\n",
            "  0  0  0  0  0  0  0  0  0  0  0  0  0  0  0  0  0  0  0  0  0  0  0  0  0  0  0  0\n",
            "  0  0  0  0  0  0  0  0  0  0  0  0  0  0  0  0  0  0  0  0  0  0  0  0  0  0  0  0\n",
            "  0  0  0  0  0  0  0  0  0  0  0  0  0  0  0  0  0  0  0  0  0  0  0  0  0  0  0  0\n"
          ],
          "name": "stdout"
        }
      ]
    },
    {
      "cell_type": "code",
      "metadata": {
        "colab": {
          "base_uri": "https://localhost:8080/"
        },
        "id": "F6FfVI8xFfUf",
        "outputId": "19da4349-37df-4bfa-ed59-3f388c5d84a3"
      },
      "source": [
        "# 딥러닝에 필요한 케라스 함수 호출\n",
        "from keras.utils import np_utils\n",
        "from keras.models import Sequential\n",
        "from keras.layers import Dense\n",
        "\n",
        "# 필요 라이브러리 호출\n",
        "import numpy\n",
        "import tensorflow as tf\n",
        "\n",
        "# 데이터 셋 호출\n",
        "from keras.datasets import mnist\n",
        "\n",
        "# 실행 시마다 같은 결과값 도출을 위한 시드 설정\n",
        "numpy.random.seed(0)\n",
        "tf.random.set_seed(0)\n",
        "\n",
        "# 데이터를 불러와서 각 변수에 저장\n",
        "(X_train, Y_train), (X_test, Y_test) = mnist.load_data()\n",
        "\n",
        "# 학습에 적합한 형태로 데이터 가공\n",
        "X_train = X_train.reshape(X_train.shape[0], 784).astype('float32') / 255\n",
        "X_test = X_test.reshape(X_test.shape[0], 784).astype('float32') / 255\n",
        "\n",
        "# 클래스를 학습에 이용하기 위해 데이터 가공\n",
        "Y_train = np_utils.to_categorical(Y_train, 10)\n",
        "Y_test = np_utils.to_categorical(Y_test, 10)\n",
        "\n",
        "# 딥러닝 모델 구조 설정(2개층, 512개의 뉴런 연결, 10개 클래스 출력 뉴런, 784개 픽셀 input 값, relu와 softmax 활성화 함수 이용)\n",
        "model = Sequential()\n",
        "model.add(Dense(512, input_dim=784, activation='relu'))\n",
        "model.add(Dense(10, activation='softmax'))\n",
        "\n",
        "# 딥러닝 구조 설정(loss 옵션을 다중 클래스에 적합한 categorical_crossentropy, 옵티마이저는 adam 설정)\n",
        "model.compile(loss='categorical_crossentropy', optimizer='adam',\n",
        "              metrics=['accuracy'])\n",
        "\n",
        "# 모델 실행(X_test, Y_test로 검증, 200개씩 30번 학습)\n",
        "model.fit(X_train, Y_train, validation_data=(X_test, Y_test), epochs=30, batch_size=200, verbose=2)\n",
        "\n",
        "# 학습 정확도, 검증 정확도 출력\n",
        "print('\\nAccuracy: {:.4f}'.format(model.evaluate(X_train, Y_train)[1]))\n",
        "print('\\nVal_Accuracy: {:.4f}'.format(model.evaluate(X_test, Y_test)[1]))\n",
        "\n",
        "# 모델 저장\n",
        "model.save('Predict_Model.h5')"
      ],
      "execution_count": 4,
      "outputs": [
        {
          "output_type": "stream",
          "text": [
            "Epoch 1/30\n",
            "300/300 - 4s - loss: 0.3043 - accuracy: 0.9152 - val_loss: 0.1530 - val_accuracy: 0.9575\n",
            "Epoch 2/30\n",
            "300/300 - 3s - loss: 0.1263 - accuracy: 0.9635 - val_loss: 0.1056 - val_accuracy: 0.9684\n",
            "Epoch 3/30\n",
            "300/300 - 3s - loss: 0.0827 - accuracy: 0.9760 - val_loss: 0.0816 - val_accuracy: 0.9750\n",
            "Epoch 4/30\n",
            "300/300 - 3s - loss: 0.0598 - accuracy: 0.9823 - val_loss: 0.0758 - val_accuracy: 0.9767\n",
            "Epoch 5/30\n",
            "300/300 - 3s - loss: 0.0464 - accuracy: 0.9866 - val_loss: 0.0684 - val_accuracy: 0.9798\n",
            "Epoch 6/30\n",
            "300/300 - 3s - loss: 0.0351 - accuracy: 0.9898 - val_loss: 0.0681 - val_accuracy: 0.9783\n",
            "Epoch 7/30\n",
            "300/300 - 3s - loss: 0.0263 - accuracy: 0.9934 - val_loss: 0.0617 - val_accuracy: 0.9815\n",
            "Epoch 8/30\n",
            "300/300 - 3s - loss: 0.0206 - accuracy: 0.9949 - val_loss: 0.0633 - val_accuracy: 0.9803\n",
            "Epoch 9/30\n",
            "300/300 - 3s - loss: 0.0148 - accuracy: 0.9968 - val_loss: 0.0600 - val_accuracy: 0.9824\n",
            "Epoch 10/30\n",
            "300/300 - 3s - loss: 0.0127 - accuracy: 0.9974 - val_loss: 0.0639 - val_accuracy: 0.9814\n",
            "Epoch 11/30\n",
            "300/300 - 3s - loss: 0.0100 - accuracy: 0.9980 - val_loss: 0.0630 - val_accuracy: 0.9811\n",
            "Epoch 12/30\n",
            "300/300 - 3s - loss: 0.0074 - accuracy: 0.9987 - val_loss: 0.0651 - val_accuracy: 0.9820\n",
            "Epoch 13/30\n",
            "300/300 - 3s - loss: 0.0057 - accuracy: 0.9993 - val_loss: 0.0648 - val_accuracy: 0.9827\n",
            "Epoch 14/30\n",
            "300/300 - 3s - loss: 0.0041 - accuracy: 0.9997 - val_loss: 0.0598 - val_accuracy: 0.9824\n",
            "Epoch 15/30\n",
            "300/300 - 3s - loss: 0.0028 - accuracy: 0.9999 - val_loss: 0.0595 - val_accuracy: 0.9840\n",
            "Epoch 16/30\n",
            "300/300 - 3s - loss: 0.0034 - accuracy: 0.9995 - val_loss: 0.0693 - val_accuracy: 0.9801\n",
            "Epoch 17/30\n",
            "300/300 - 3s - loss: 0.0113 - accuracy: 0.9968 - val_loss: 0.0711 - val_accuracy: 0.9806\n",
            "Epoch 18/30\n",
            "300/300 - 3s - loss: 0.0061 - accuracy: 0.9983 - val_loss: 0.0703 - val_accuracy: 0.9809\n",
            "Epoch 19/30\n",
            "300/300 - 3s - loss: 0.0023 - accuracy: 0.9997 - val_loss: 0.0688 - val_accuracy: 0.9839\n",
            "Epoch 20/30\n",
            "300/300 - 3s - loss: 0.0034 - accuracy: 0.9992 - val_loss: 0.0733 - val_accuracy: 0.9810\n",
            "Epoch 21/30\n",
            "300/300 - 3s - loss: 0.0024 - accuracy: 0.9995 - val_loss: 0.0705 - val_accuracy: 0.9829\n",
            "Epoch 22/30\n",
            "300/300 - 3s - loss: 0.0055 - accuracy: 0.9984 - val_loss: 0.0715 - val_accuracy: 0.9818\n",
            "Epoch 23/30\n",
            "300/300 - 3s - loss: 0.0027 - accuracy: 0.9995 - val_loss: 0.0782 - val_accuracy: 0.9808\n",
            "Epoch 24/30\n",
            "300/300 - 3s - loss: 0.0010 - accuracy: 0.9999 - val_loss: 0.0724 - val_accuracy: 0.9827\n",
            "Epoch 25/30\n",
            "300/300 - 3s - loss: 3.5888e-04 - accuracy: 1.0000 - val_loss: 0.0717 - val_accuracy: 0.9836\n",
            "Epoch 26/30\n",
            "300/300 - 3s - loss: 2.6239e-04 - accuracy: 1.0000 - val_loss: 0.0721 - val_accuracy: 0.9831\n",
            "Epoch 27/30\n",
            "300/300 - 3s - loss: 2.2965e-04 - accuracy: 1.0000 - val_loss: 0.0726 - val_accuracy: 0.9836\n",
            "Epoch 28/30\n",
            "300/300 - 3s - loss: 2.0075e-04 - accuracy: 1.0000 - val_loss: 0.0728 - val_accuracy: 0.9838\n",
            "Epoch 29/30\n",
            "300/300 - 3s - loss: 1.7702e-04 - accuracy: 1.0000 - val_loss: 0.0726 - val_accuracy: 0.9835\n",
            "Epoch 30/30\n",
            "300/300 - 3s - loss: 1.5661e-04 - accuracy: 1.0000 - val_loss: 0.0734 - val_accuracy: 0.9834\n",
            "1875/1875 [==============================] - 5s 2ms/step - loss: 1.3202e-04 - accuracy: 1.0000\n",
            "\n",
            "Accuracy: 1.0000\n",
            "313/313 [==============================] - 1s 2ms/step - loss: 0.0734 - accuracy: 0.9834\n",
            "\n",
            "Val_Accuracy: 0.9834\n"
          ],
          "name": "stdout"
        }
      ]
    },
    {
      "cell_type": "markdown",
      "metadata": {
        "id": "NaZNfXSmJ_ND"
      },
      "source": [
        "# 테스트\n",
        "* 테스트를 위해서 28*28 사이즈를 그림판으로 그려서 업로드하기 "
      ]
    },
    {
      "cell_type": "code",
      "metadata": {
        "colab": {
          "base_uri": "https://localhost:8080/"
        },
        "id": "ObaHDvuBF-4-",
        "outputId": "41e93c35-1d33-4fd3-85c1-da399348a2fd"
      },
      "source": [
        "# 딥러닝에 필요한 케라스 함수 호출\n",
        "from keras.models import load_model\n",
        "from keras.utils import np_utils\n",
        "\n",
        "# 필요 라이브러리 호출(PIL은 이미지파일 처리위함)\n",
        "from PIL import Image\n",
        "import numpy as np\n",
        "\n",
        "# test.png는 그림판에서 붓으로 숫자 8을 그린 이미지 파일\n",
        "# test.png 파일 열어서 L(256단계 흑백이미지)로 변환\n",
        "img = Image.open(\"test.png\").convert(\"L\")\n",
        "\n",
        "# 이미지를 784개 흑백 픽셀로 사이즈 변환\n",
        "img = np.resize(img, (1, 784))\n",
        "\n",
        "# 데이터를 모델에 적용할 수 있도록 가공\n",
        "test_data = ((np.array(img) / 255) - 1) * -1\n",
        "\n",
        "# 모델 불러오기\n",
        "model = load_model('Predict_Model.h5')\n",
        "\n",
        "# 클래스 예측 함수에 가공된 테스트 데이터 넣어 결과 도출\n",
        "res = model.predict_classes(test_data)\n",
        "\n",
        "print(res)"
      ],
      "execution_count": 7,
      "outputs": [
        {
          "output_type": "stream",
          "text": [
            "[2]\n"
          ],
          "name": "stdout"
        },
        {
          "output_type": "stream",
          "text": [
            "/usr/local/lib/python3.7/dist-packages/tensorflow/python/keras/engine/sequential.py:450: UserWarning: `model.predict_classes()` is deprecated and will be removed after 2021-01-01. Please use instead:* `np.argmax(model.predict(x), axis=-1)`,   if your model does multi-class classification   (e.g. if it uses a `softmax` last-layer activation).* `(model.predict(x) > 0.5).astype(\"int32\")`,   if your model does binary classification   (e.g. if it uses a `sigmoid` last-layer activation).\n",
            "  warnings.warn('`model.predict_classes()` is deprecated and '\n"
          ],
          "name": "stderr"
        }
      ]
    }
  ]
}